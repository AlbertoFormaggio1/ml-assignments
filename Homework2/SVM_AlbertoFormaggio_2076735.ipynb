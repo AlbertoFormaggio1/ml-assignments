{
 "cells": [
  {
   "cell_type": "markdown",
   "metadata": {},
   "source": [
    "# SVM for classification, without and with kernels\n",
    "\n",
    "In this notebook we are going to explore the use of Support Vector Machines (SVMs) for image classification. We are going to use the famous MNIST dataset, that is a dataset of handwritten digits. We get the data from mldata.org, that is a public repository for machine learning data.\n",
    "\n",
    "The dataset consists of 70,000 images of handwritten digits (i.e., 0, 1, ... 9). Each image is 28 pixels by 28 pixels and we can think of it as a vector of 28x28 = 784 numbers. Each number is an integer between 0 and 255. For each image we have the corresponding label (i.e., 0, 1, ..., 9)."
   ]
  },
  {
   "cell_type": "code",
   "execution_count": 22,
   "metadata": {},
   "outputs": [],
   "source": [
    "#load the required packages\n",
    "\n",
    "%matplotlib inline  \n",
    "\n",
    "import numpy as np\n",
    "import matplotlib.pyplot as plt\n",
    "\n",
    "import sklearn\n",
    "from sklearn.datasets import fetch_openml"
   ]
  },
  {
   "cell_type": "code",
   "execution_count": 23,
   "metadata": {},
   "outputs": [],
   "source": [
    "#fix your ID (\"numero di matricola\") and the seed for random generator\n",
    "ID = 2076735\n",
    "np.random.seed(ID)"
   ]
  },
  {
   "cell_type": "markdown",
   "metadata": {},
   "source": [
    "Now let's load the dataset. 'data' contains the input, 'target' contains the label. We normalize the data by dividing each value by 255 so that each value is in [0,1]"
   ]
  },
  {
   "cell_type": "code",
   "execution_count": 24,
   "metadata": {},
   "outputs": [],
   "source": [
    "#load the MNIST dataset and let's normalize the features so that each value is in [0,1]\n",
    "mnist = fetch_openml('mnist_784', version=1)\n",
    "# rescale the data\n",
    "X, y = mnist.data.values / 255., mnist.target.values"
   ]
  },
  {
   "cell_type": "markdown",
   "metadata": {},
   "source": [
    "Now split into training and test. We keep 500 samples in the training set. Make sure that each label is present at least 10 times\n",
    "in training. If it is not, then keep adding permutations to the initial data until this \n",
    "happens.\n",
    "\n",
    "**IMPORTANT**: if you cannot run the SVM with 500 samples or 1000 samples (see below), try with a smaller number of samples (e.g. 200 here and 400 below)."
   ]
  },
  {
   "cell_type": "code",
   "execution_count": 25,
   "metadata": {},
   "outputs": [
    {
     "name": "stdout",
     "output_type": "stream",
     "text": [
      "Labels and frequencies in training dataset: \n"
     ]
    },
    {
     "data": {
      "text/plain": "(array(['0', '1', '2', '3', '4', '5', '6', '7', '8', '9'], dtype=object),\n array([53, 52, 44, 54, 40, 47, 44, 55, 58, 53], dtype=int64))"
     },
     "execution_count": 25,
     "metadata": {},
     "output_type": "execute_result"
    }
   ],
   "source": [
    "#random permute the data and split into training and test taking the first 500\n",
    "#data samples as training and the rests as test\n",
    "permutation = np.random.permutation(X.shape[0])\n",
    "\n",
    "X = X[permutation]\n",
    "y = y[permutation]\n",
    "\n",
    "m_training = 500\n",
    "\n",
    "X_train, X_test = X[:m_training], X[m_training:]\n",
    "y_train, y_test = y[:m_training], y[m_training:]\n",
    "\n",
    "print(\"Labels and frequencies in training dataset: \")\n",
    "np.unique(y_train, return_counts = True)"
   ]
  },
  {
   "cell_type": "markdown",
   "metadata": {},
   "source": [
    "We now provide a function to print an image in the dataset and the corresponding true label given the index of the image in the dataset."
   ]
  },
  {
   "cell_type": "code",
   "execution_count": 26,
   "metadata": {},
   "outputs": [],
   "source": [
    "#function for plotting a digit and printing the corresponding labe\n",
    "def plot_digit(X_matrix, labels, index):\n",
    "    print(\"INPUT:\")\n",
    "    plt.imshow(\n",
    "        X_matrix[index].reshape(28,28),\n",
    "        cmap          = plt.cm.gray_r,\n",
    "        interpolation = \"nearest\"\n",
    "    )\n",
    "    plt.show()\n",
    "    print(\"LABEL: %s\" % labels[index])\n",
    "    return"
   ]
  },
  {
   "cell_type": "markdown",
   "metadata": {},
   "source": [
    "As an example, let's print the 100-th image in X_train and the 40,000-th image in X_test and their true labels."
   ]
  },
  {
   "cell_type": "code",
   "execution_count": 27,
   "metadata": {},
   "outputs": [
    {
     "name": "stdout",
     "output_type": "stream",
     "text": [
      "INPUT:\n"
     ]
    },
    {
     "data": {
      "text/plain": "<Figure size 432x288 with 1 Axes>",
      "image/png": "[encoded data removed]"
     },
     "metadata": {
      "needs_background": "light"
     },
     "output_type": "display_data"
    },
    {
     "name": "stdout",
     "output_type": "stream",
     "text": [
      "LABEL: 9\n",
      "INPUT:\n"
     ]
    },
    {
     "data": {
      "text/plain": "<Figure size 432x288 with 1 Axes>",
      "image/png": "[encoded data removed]"
     },
     "metadata": {
      "needs_background": "light"
     },
     "output_type": "display_data"
    },
    {
     "name": "stdout",
     "output_type": "stream",
     "text": [
      "LABEL: 3\n"
     ]
    }
   ],
   "source": [
    "#let's try the plotting function\n",
    "plot_digit(X_train,y_train,100)\n",
    "plot_digit(X_test,y_test,40000)"
   ]
  },
  {
   "cell_type": "markdown",
   "metadata": {},
   "source": [
    "## TO DO 1\n",
    "Run SVM with 5-fold cross validation to pick the best kernel and values of parameters. We provide some potential choice for parameters, but change the grid if needed (e.g., it takes too long). For the SVM for classification use SVC from sklearn.svm; for the grid search we suggest you use GridSearchCV from sklearn.model_selection, but you can implement your own cross-validation for model selection if you prefer.\n",
    "\n",
    "Finally, print the best parameters used as well as the score obtained by the best model"
   ]
  },
  {
   "cell_type": "code",
   "execution_count": 28,
   "metadata": {},
   "outputs": [
    {
     "name": "stdout",
     "output_type": "stream",
     "text": [
      "RESULTS FOR LINEAR KERNEL\n",
      "\n",
      "Best parameters set found:\n",
      "1\n",
      "Score with best parameters:\n",
      "0.8640000000000001\n",
      "\n",
      "All scores on the grid:\n",
      "[0.864 0.864 0.864]\n",
      "\n",
      "RESULTS FOR POLY DEGREE=2 KERNEL\n",
      "\n",
      "Best parameters set found:\n",
      "{'C': 1, 'gamma': 0.1}\n",
      "Score with best parameters:\n",
      "0.858\n",
      "\n",
      "All scores on the grid:\n",
      "[0.832 0.858 0.858 0.858 0.858 0.858 0.858 0.858 0.858]\n",
      "\n",
      "RESULTS FOR rbf KERNEL\n",
      "\n",
      "Best parameters set found:\n",
      "{'C': 10, 'gamma': 0.01}\n",
      "Score with best parameters:\n",
      "0.8800000000000001\n",
      "\n",
      "All scores on the grid:\n",
      "[0.866 0.47  0.116 0.88  0.5   0.12  0.88  0.5   0.12 ]\n"
     ]
    }
   ],
   "source": [
    "#import SVC\n",
    "from sklearn.svm import SVC\n",
    "#import for Cross-Validation\n",
    "from sklearn.model_selection import GridSearchCV\n",
    "\n",
    "# parameters for linear SVM\n",
    "parameters = {'C': [1, 10, 100]}\n",
    "\n",
    "#run linear SVM\n",
    "linear_SVM = SVC(kernel='linear')\n",
    "\n",
    "#find best model using 5-fold CV\n",
    "#and train it using all the training data\n",
    "\n",
    "#Using GridSearchCV:\n",
    "#model = GridSearchCV(estimator=linear_SVM, param_grid=parameters, cv=5)\n",
    "#model.fit(X_train, y_train)\n",
    "\n",
    "#Using my own Cross Validation function:\n",
    "from sklearn.model_selection import KFold\n",
    "num_folds = 5\n",
    "kf = KFold(n_splits=num_folds)\n",
    "\n",
    "#Create an array for storing the scores obtained by using each parameter\n",
    "scores = np.zeros(len(parameters['C']),)\n",
    "\n",
    "#For each parameter\n",
    "for i in range (0, len(parameters['C'])):\n",
    "    linear_SVM.set_params(C=parameters['C'][i]) #Set the current parameter C to the SVM\n",
    "    for train_index, valid_index in kf.split(X_train): #Split the training data into 5 folds: 4 will be used as training data and 1 for validation purposes\n",
    "        linear_SVM.fit(X_train[train_index], y_train[train_index]) #This overwrites previous fitting of the data\n",
    "        scores[i] += linear_SVM.score(X_train[valid_index],y_train[valid_index]) #Add the score obtained for each fold\n",
    "\n",
    "    scores[i] = scores[i] / num_folds #loss of parameter p is the average of all the losses obtained by using each fold of the training set as validation\n",
    "\n",
    "best_parameter_index = np.argmax(scores)  #Get the index of the parameter with lower loss\n",
    "best_parameter = parameters['C'][best_parameter_index]  #Get the actual parameter\n",
    "best_loss = scores[best_parameter_index]\n",
    "\n",
    "linear_SVM.fit(X_train,y_train)\n",
    "\n",
    "print ('RESULTS FOR LINEAR KERNEL\\n')\n",
    "\n",
    "print(\"Best parameters set found:\")\n",
    "print(best_parameter)\n",
    "#print(model.best_params_)\n",
    "\n",
    "print(\"Score with best parameters:\")\n",
    "print(scores[best_parameter_index])\n",
    "#print(model.best_score_)\n",
    "\n",
    "print(\"\\nAll scores on the grid:\")\n",
    "#print(model.cv_results_['mean_test_score'])\n",
    "print(scores)\n",
    "\n",
    "# parameters for poly with degree 2 kernel\n",
    "parameters = {'C': [1, 10, 100],'gamma':[0.01,0.1,1.]}\n",
    "\n",
    "#run SVM with poly of degree 2 kernel\n",
    "poly2_SVM = SVC(kernel='poly',degree=2)\n",
    "\n",
    "# ADD CODE: DO THE SAME AS ABOVE FOR POLYNOMIAL KERNEL WITH DEGREE=2\n",
    "#find best model using 5-fold CV\n",
    "#and train it using all the training data\n",
    "\n",
    "#Using now GridSearchCV to see a different (and more compact) approach\n",
    "grid_poly2 = GridSearchCV(estimator=poly2_SVM, param_grid=parameters, cv=5)\n",
    "grid_poly2.fit(X_train, y_train)\n",
    "\n",
    "print ('\\nRESULTS FOR POLY DEGREE=2 KERNEL\\n')\n",
    "\n",
    "print(\"Best parameters set found:\")\n",
    "print(grid_poly2.best_params_)\n",
    "\n",
    "print(\"Score with best parameters:\")\n",
    "print(grid_poly2.best_score_)\n",
    "\n",
    "print(\"\\nAll scores on the grid:\")\n",
    "print(grid_poly2.cv_results_['mean_test_score'])\n",
    "\n",
    "# parameters for rbf SVM\n",
    "parameters = {'C': [1, 10, 100],'gamma':[0.01,0.1,1.]}\n",
    "\n",
    "#run SVM with rbf kernel\n",
    "rbf_SVM = SVC(kernel='rbf')\n",
    "# ADD CODE: DO THE SAME AS ABOVE FOR RBF KERNEL\n",
    "#find best model using 5-fold CV\n",
    "#and train it using all the training data\n",
    "\n",
    "grid_rbf = GridSearchCV(estimator=rbf_SVM, param_grid=parameters, cv=5)\n",
    "grid_rbf.fit(X_train, y_train)\n",
    "\n",
    "print ('\\nRESULTS FOR rbf KERNEL\\n')\n",
    "\n",
    "print(\"Best parameters set found:\")\n",
    "print(grid_rbf.best_params_)\n",
    "\n",
    "print(\"Score with best parameters:\")\n",
    "print(grid_rbf.best_score_)\n",
    "\n",
    "print(\"\\nAll scores on the grid:\")\n",
    "print(grid_rbf.cv_results_['mean_test_score'])"
   ]
  },
  {
   "cell_type": "markdown",
   "metadata": {},
   "source": [
    "## TO DO 2\n",
    "For the \"best\" SVM kernel and choice of parameters from above, train the model on the entire training set and measure the training error. Also make predictions on the test set and measure the test error. Print the training and the test error."
   ]
  },
  {
   "cell_type": "code",
   "execution_count": 29,
   "metadata": {},
   "outputs": [
    {
     "name": "stdout",
     "output_type": "stream",
     "text": [
      "Best SVM training error: 0.014000\n",
      "Best SVM test error: 0.117381\n"
     ]
    }
   ],
   "source": [
    "#get training and test error for the best SVM model from CV\n",
    "best_SVM = rbf_SVM\n",
    "\n",
    "# fit the model on the entire training set\n",
    "# ADD CODE\n",
    "best_SVM.fit(X_train, y_train)\n",
    "\n",
    "#get the training and test error\n",
    "training_error_best = 1. - best_SVM.score(X_train,y_train)\n",
    "test_error_best = 1. - best_SVM.score(X_test,y_test)\n",
    "\n",
    "print (\"Best SVM training error: %f\" % training_error_best)\n",
    "print (\"Best SVM test error: %f\" % test_error_best)"
   ]
  },
  {
   "cell_type": "markdown",
   "metadata": {},
   "source": [
    "## Use logistic regression for comparison\n",
    "\n",
    "## TO DO 3\n",
    "\n",
    "Just for comparison let's also use logistic regression, first with the default values of the parameter for regularization and then with cross-validation to fix the value of the parameters. For cross validation, use 5-fold cross validation and the default values of the regularization parameters for the function linear_model.LogisticRegressionCV(...).\n",
    "\n",
    "Note: during training you may receive a \"ConvergenceWarning\" that indicates that the logistic regression solver did not converge to the optimal result. Given the scope of the notebook, we can ignore such warning but in real-world scenarios you should take corrective measures such as increasing the number of training iterations and/or the runtime for training or picking a different optimizer"
   ]
  },
  {
   "cell_type": "code",
   "execution_count": 30,
   "metadata": {},
   "outputs": [
    {
     "name": "stderr",
     "output_type": "stream",
     "text": [
      "C:\\Users\\User\\anaconda3\\lib\\site-packages\\sklearn\\linear_model\\_logistic.py:814: ConvergenceWarning: lbfgs failed to converge (status=1):\n",
      "STOP: TOTAL NO. of ITERATIONS REACHED LIMIT.\n",
      "\n",
      "Increase the number of iterations (max_iter) or scale the data as shown in:\n",
      "    https://scikit-learn.org/stable/modules/preprocessing.html\n",
      "Please also refer to the documentation for alternative solver options:\n",
      "    https://scikit-learn.org/stable/modules/linear_model.html#logistic-regression\n",
      "  n_iter_i = _check_optimize_result(\n"
     ]
    },
    {
     "name": "stdout",
     "output_type": "stream",
     "text": [
      "Best logistic regression training error: 0.000000\n",
      "Best logistic regression test error: 0.157871\n"
     ]
    },
    {
     "name": "stderr",
     "output_type": "stream",
     "text": [
      "C:\\Users\\User\\anaconda3\\lib\\site-packages\\sklearn\\linear_model\\_logistic.py:814: ConvergenceWarning: lbfgs failed to converge (status=1):\n",
      "STOP: TOTAL NO. of ITERATIONS REACHED LIMIT.\n",
      "\n",
      "Increase the number of iterations (max_iter) or scale the data as shown in:\n",
      "    https://scikit-learn.org/stable/modules/preprocessing.html\n",
      "Please also refer to the documentation for alternative solver options:\n",
      "    https://scikit-learn.org/stable/modules/linear_model.html#logistic-regression\n",
      "  n_iter_i = _check_optimize_result(\n",
      "C:\\Users\\User\\anaconda3\\lib\\site-packages\\sklearn\\linear_model\\_logistic.py:814: ConvergenceWarning: lbfgs failed to converge (status=1):\n",
      "STOP: TOTAL NO. of ITERATIONS REACHED LIMIT.\n",
      "\n",
      "Increase the number of iterations (max_iter) or scale the data as shown in:\n",
      "    https://scikit-learn.org/stable/modules/preprocessing.html\n",
      "Please also refer to the documentation for alternative solver options:\n",
      "    https://scikit-learn.org/stable/modules/linear_model.html#logistic-regression\n",
      "  n_iter_i = _check_optimize_result(\n",
      "C:\\Users\\User\\anaconda3\\lib\\site-packages\\sklearn\\linear_model\\_logistic.py:814: ConvergenceWarning: lbfgs failed to converge (status=1):\n",
      "STOP: TOTAL NO. of ITERATIONS REACHED LIMIT.\n",
      "\n",
      "Increase the number of iterations (max_iter) or scale the data as shown in:\n",
      "    https://scikit-learn.org/stable/modules/preprocessing.html\n",
      "Please also refer to the documentation for alternative solver options:\n",
      "    https://scikit-learn.org/stable/modules/linear_model.html#logistic-regression\n",
      "  n_iter_i = _check_optimize_result(\n",
      "C:\\Users\\User\\anaconda3\\lib\\site-packages\\sklearn\\linear_model\\_logistic.py:814: ConvergenceWarning: lbfgs failed to converge (status=1):\n",
      "STOP: TOTAL NO. of ITERATIONS REACHED LIMIT.\n",
      "\n",
      "Increase the number of iterations (max_iter) or scale the data as shown in:\n",
      "    https://scikit-learn.org/stable/modules/preprocessing.html\n",
      "Please also refer to the documentation for alternative solver options:\n",
      "    https://scikit-learn.org/stable/modules/linear_model.html#logistic-regression\n",
      "  n_iter_i = _check_optimize_result(\n",
      "C:\\Users\\User\\anaconda3\\lib\\site-packages\\sklearn\\linear_model\\_logistic.py:814: ConvergenceWarning: lbfgs failed to converge (status=1):\n",
      "STOP: TOTAL NO. of ITERATIONS REACHED LIMIT.\n",
      "\n",
      "Increase the number of iterations (max_iter) or scale the data as shown in:\n",
      "    https://scikit-learn.org/stable/modules/preprocessing.html\n",
      "Please also refer to the documentation for alternative solver options:\n",
      "    https://scikit-learn.org/stable/modules/linear_model.html#logistic-regression\n",
      "  n_iter_i = _check_optimize_result(\n",
      "C:\\Users\\User\\anaconda3\\lib\\site-packages\\sklearn\\linear_model\\_logistic.py:814: ConvergenceWarning: lbfgs failed to converge (status=1):\n",
      "STOP: TOTAL NO. of ITERATIONS REACHED LIMIT.\n",
      "\n",
      "Increase the number of iterations (max_iter) or scale the data as shown in:\n",
      "    https://scikit-learn.org/stable/modules/preprocessing.html\n",
      "Please also refer to the documentation for alternative solver options:\n",
      "    https://scikit-learn.org/stable/modules/linear_model.html#logistic-regression\n",
      "  n_iter_i = _check_optimize_result(\n"
     ]
    },
    {
     "name": "stdout",
     "output_type": "stream",
     "text": [
      "Best logistic regression training error with CV: 0.000000\n",
      "Best logistic regression test error with CV: 0.159309\n"
     ]
    }
   ],
   "source": [
    "from sklearn import linear_model\n",
    "\n",
    "lr = linear_model.LogisticRegression()\n",
    "# fit the model on the training data\n",
    "lr.fit(X_train, y_train)\n",
    "\n",
    "#compute training and test error for model above\n",
    "training_error_lr = 1 - lr.score(X_train, y_train)\n",
    "test_error_lr = 1 - lr.score(X_test, y_test)\n",
    "\n",
    "print (\"Best logistic regression training error: %f\" % training_error_lr)\n",
    "print (\"Best logistic regression test error: %f\" % test_error_lr)\n",
    "\n",
    "#logistic regression with 5-fold CV: you can use use linear_model.LogisticRegressionCV\n",
    "# use 5-fold CV to find the best choice of the parameter, than train\n",
    "# the model on the entire training set\n",
    "lr_cv = linear_model.LogisticRegressionCV(cv=5) #cv=5 is the default parameter, we still add it for the sake of clarity\n",
    "lr_cv.fit(X_train, y_train) #Fit the data\n",
    "training_error_cv = 1 - lr_cv.score(X_train, y_train)\n",
    "test_error_cv = 1 - lr_cv.score(X_test, y_test)\n",
    "\n",
    "print (\"Best logistic regression training error with CV: %f\" % training_error_cv)\n",
    "print (\"Best logistic regression test error with CV: %f\" % test_error_cv)"
   ]
  },
  {
   "cell_type": "markdown",
   "metadata": {},
   "source": [
    "## TO DO 4\n",
    "Compare and comment the results from SVM and logistic regression.\n",
    "\n",
    "\n",
    "### Observations on SVMs:\n",
    "We can easily see that our data have been classified in the best way by a SVM with rbf kernel among the various SVMs available.\n",
    "By looking at the literature, we know that, when classifying images, Rbf is the best choice.\n",
    "As stated in https://calculatedcontent.com/2012/02/06/kernels_part_1/, we can see that RBF kernel is similar to a low-band pass filter, which is used in Signal Processing to smooth images, which makes this kernel powerful in our case!\n",
    "\n",
    "Another interesting observation can be done on the parameters chosen by running the RBF SVM over the validation set.\n",
    "While the choice of C has a relatively small impact on the validation error:"
   ]
  },
  {
   "cell_type": "code",
   "execution_count": 31,
   "outputs": [
    {
     "name": "stdout",
     "output_type": "stream",
     "text": [
      "Param C= 1 :\n",
      "0    0.866\n",
      "1    0.470\n",
      "2    0.116\n",
      "Param C= 10 :\n",
      "3    0.88\n",
      "4    0.50\n",
      "5    0.12\n",
      "Param C= 100 :\n",
      "6    0.88\n",
      "7    0.50\n",
      "8    0.12\n"
     ]
    }
   ],
   "source": [
    "import pandas as pd\n",
    "\n",
    "df = pd.DataFrame(grid_rbf.cv_results_)\n",
    "for x in parameters['C']:\n",
    "    cur = df.loc[df['param_C'] == x]\n",
    "    print('Param C=',x,':')\n",
    "    print(cur['mean_test_score'].to_string())\n"
   ],
   "metadata": {
    "collapsed": false
   }
  },
  {
   "cell_type": "markdown",
   "source": [
    "What is more interesting, instead, is the choice of gamma, which has a huge impact on the training error as we can see here:"
   ],
   "metadata": {
    "collapsed": false
   }
  },
  {
   "cell_type": "code",
   "execution_count": 32,
   "outputs": [
    {
     "name": "stdout",
     "output_type": "stream",
     "text": [
      "Param gamma= 0.01 :\n",
      "0    0.866\n",
      "3    0.880\n",
      "6    0.880\n",
      "Param gamma= 0.1 :\n",
      "1    0.47\n",
      "4    0.50\n",
      "7    0.50\n",
      "Param gamma= 1.0 :\n",
      "2    0.116\n",
      "5    0.120\n",
      "8    0.120\n"
     ]
    }
   ],
   "source": [
    "df = pd.DataFrame(grid_rbf.cv_results_)\n",
    "for x in parameters['gamma']:\n",
    "    cur = df.loc[df['param_gamma'] == x]\n",
    "    print('Param gamma=',x,':')\n",
    "    print(cur['mean_test_score'].to_string())"
   ],
   "metadata": {
    "collapsed": false
   }
  },
  {
   "cell_type": "markdown",
   "source": [
    "Let us try to explain this.\n",
    "A very good explanation can come after observing what is said here: https://medium.com/towards-data-science/radial-basis-function-rbf-kernel-the-go-to-kernel-acf0d22c798a\n",
    "Basically, by changing the parameter $\\gamma$, we are changing the width of the **Region of Similarity**, i.e. the maximum distance that 2 patterns (the one in the training set and the one we want to predict) can have in order to belong to the same class (if they are in this Region, their similarity score given by $K(x1,x2) \\neq 0$)\n",
    "If we increase $\\gamma$, we are restricting the Region of Similarity, while by decreasing it we increase the width of this region (pay attention: $\\gamma = 1/\\sigma$ in the article).\n",
    "Therefore, a higher $\\gamma$ leads to a model that overfits the data (as we can see $\\gamma = 1$ has a score around 0.1, which is *very low*)\n",
    "\n",
    "\n",
    "Finally, the test error of the best model, since it is related to unseen data, was higher than the one that we got from the training data (this was expected, of course).\n",
    "\n",
    "\n",
    "### Observations on Logistic Regression:\n",
    "We see that the training error for Logistic Regression is 0.\n",
    "This fact raised some suspects since this would imply that the data that we are considering are linearly separable.\n",
    "Therefore, let us look at our instances and training set size: we have 500 instances and each of them has 28*28 = 784 features.\n",
    "This means that logistic regression could always find a hyperplane to perfectly classify all the data! This phenomenon is called \"curse of dimensionality\".\n",
    "Fortunately, the Logistic Regression model provided by scikit learn provides also a regularization term to avoid models that are too complex, therefore it does some kind of feature selection.\n",
    "Let us see how many parameters are nonzero in our model."
   ],
   "metadata": {
    "collapsed": false
   }
  },
  {
   "cell_type": "code",
   "execution_count": 33,
   "metadata": {},
   "outputs": [
    {
     "name": "stdout",
     "output_type": "stream",
     "text": [
      "hyperplane 0 : 585 nonzero parameters\n",
      "hyperplane 1 : 585 nonzero parameters\n",
      "hyperplane 2 : 585 nonzero parameters\n",
      "hyperplane 3 : 585 nonzero parameters\n",
      "hyperplane 4 : 585 nonzero parameters\n",
      "hyperplane 5 : 585 nonzero parameters\n",
      "hyperplane 6 : 585 nonzero parameters\n",
      "hyperplane 7 : 585 nonzero parameters\n",
      "hyperplane 8 : 585 nonzero parameters\n",
      "hyperplane 9 : 585 nonzero parameters\n"
     ]
    }
   ],
   "source": [
    " for x in range(len(lr.coef_)) : print(\"hyperplane\", x, \":\", np.count_nonzero(lr.coef_[x]), \"nonzero parameters\")"
   ]
  },
  {
   "cell_type": "code",
   "execution_count": 34,
   "outputs": [
    {
     "name": "stdout",
     "output_type": "stream",
     "text": [
      "Test error: 0.10525179856115108\n",
      "Test error: 0.1408345323741007\n"
     ]
    }
   ],
   "source": [
    "lin_hard_SVM = SVC(C=1000000000)\n",
    "lin_hard_SVM.fit(X_train, y_train)\n",
    "\n",
    "print(\"Test error:\", 1-lin_hard_SVM.score(X_test, y_test))\n",
    "print(\"Test error:\", 1-linear_SVM.score(X_test, y_test))"
   ],
   "metadata": {
    "collapsed": false
   }
  },
  {
   "cell_type": "markdown",
   "metadata": {},
   "source": [
    "As we can see, the number of features selected in our model is greater than the number of instances in our training set, therefore we expect the training error to be 0. (we will compare this later with a training set with size greater than the number of features).\n",
    "However, in this case, the separating hyperplane found doesn't overfit too much the data as the generalization error is not very high (around 16%). This is because the data we used in our training set were representative of the distribution that generates the data."
   ]
  },
  {
   "cell_type": "markdown",
   "metadata": {},
   "source": [
    "### Comparison between Best SVM and Logistic regression:\n",
    "\n",
    "First and foremost, the aforementioned problem of the curse of dimensionality is something that has a significant impact on linear models rather than SVMs. This can be easily proved by considering how SVMs work: they try to optimize the margin, which is a distance (independent from the dimensionality of our feature space). Moreover, in many cases we use kernels which project instances into spaces of higher dimension in order to get better performance: if curse of dimensionality was an issue, we would not use kernels in the first place! (https://stats.stackexchange.com/questions/35276/svm-overfitting-curse-of-dimensionality)\n",
    "\n",
    "Having said that, the model that performed better between logistic regression and SVM with rbf kernel, was the latter.\n",
    "At first sight, this may seem weird since the training error of logistic regression was 0 (hence, the classification of the patterns in the training data was perfect) while the empirical risk of SVM is small but still higher.\n",
    "A first explanation is related to the reasoning applied before related to curse of dimensionality and overfitting. Because of that, we can say Soft SVM is less vulnerable to overfitting when compared to LR (has a better generalization).\n",
    "\n",
    "We can look further into this phenomenon by considering how SVM and LR work.\n",
    "LR tries to separate the data by using a hyperplane: this is a strong assumption because this would imply that our data are linearly separable, which can also not be our case. The RBF SVM instead looks for a more complex separating function since we are using a non-linear kernel which resulted in better performance.\n",
    "In addition, the parameter C chosen by SVM is 10, not very high, therefore we have that the SVM that we're using is not a hard-SVM, but a soft one (an SVM that allows mistakes in the classification for having a better, thus larger, margin).\n",
    "This means that our SVM, instead of just trying to perfectly classify the data, will look for a way to maximize the margin, also by wrongly classifying some patterns.\n",
    "On the other hand, logistic regression just tries to perfectly classify the data, even if the distance between the 2 classes may be very small.\n",
    "\n",
    "In conclusion, we can say LR learned **too well** the patterns in the training set while SVM, allowing some errors in the training data and by separating the classes in a more complex way, had a better accuracy over the test set.\n",
    "\n",
    "However, the difference in performance between the 2 models is negligible."
   ]
  },
  {
   "cell_type": "markdown",
   "metadata": {},
   "source": [
    "## TO DO 5\n",
    "Write the code that finds and plots a digit that is missclassified by logistic regression (optimized for the regularization parameter) and correctly classified by the \"best\" SVM."
   ]
  },
  {
   "cell_type": "code",
   "execution_count": 35,
   "metadata": {},
   "outputs": [
    {
     "name": "stdout",
     "output_type": "stream",
     "text": [
      "INPUT:\n"
     ]
    },
    {
     "data": {
      "text/plain": "<Figure size 432x288 with 1 Axes>",
      "image/png": "[encoded data removed]"
     },
     "metadata": {
      "needs_background": "light"
     },
     "output_type": "display_data"
    },
    {
     "name": "stdout",
     "output_type": "stream",
     "text": [
      "LABEL: 0\n",
      "Prediction of lr_cv: 5\n",
      "Prediction of best_SVM: 0\n"
     ]
    }
   ],
   "source": [
    "pred_lr = lr_cv.predict(X_test) #Predict the values in the test data with the LR model\n",
    "wrong_pred_lr = pred_lr != y_test #Get an array of booleans where True means a pattern was misclassified by LR\n",
    "\n",
    "pred_best_SVM = best_SVM.predict(X_test) #Predict the values in the test data by using the best SVM (rbf) model\n",
    "right_pred_SVM = pred_best_SVM == y_test #Get an array of booleans where True means a pattern was correctly classified by SVM\n",
    "\n",
    "#Do the intersection between and keep only the patterns that have a True in the same position (therefore the i-th pattern was misclassified by LR and correctly classified by SVM)\n",
    "right_SVM_wrong_lr = np.logical_and(right_pred_SVM, wrong_pred_lr)\n",
    "#Get the indices of the positions in which you have True (the instances that we're looking for)\n",
    "right_SVM_wrong_lr_indices = [i for i, x in enumerate(right_SVM_wrong_lr) if x]\n",
    "\n",
    "#Plot the digit for any index inside the vector just obtained\n",
    "plot_digit(X_test, y_test, right_SVM_wrong_lr_indices[0])\n",
    "print(\"Prediction of lr_cv:\", pred_lr[right_SVM_wrong_lr_indices[0]])\n",
    "print(\"Prediction of best_SVM:\", pred_best_SVM[right_SVM_wrong_lr_indices[0]])"
   ]
  },
  {
   "cell_type": "markdown",
   "metadata": {},
   "source": [
    "## More data\n",
    "Now let's do the same but using 1000 data points for training. \n",
    "\n",
    "## TO DO 6\n",
    "Repeat the entire analysis above using 1000 samples. Of course you can copy the code from above (but no need to copy markdown comments)."
   ]
  },
  {
   "cell_type": "code",
   "execution_count": 36,
   "metadata": {},
   "outputs": [
    {
     "name": "stdout",
     "output_type": "stream",
     "text": [
      "Labels and frequencies in training dataset: \n",
      "RESULTS FOR LINEAR KERNEL\n",
      "\n",
      "Best parameters set found:\n",
      "{'C': 1}\n",
      "Score with best parameters:\n",
      "0.867\n",
      "\n",
      "All scores on the grid:\n",
      "[0.867 0.867 0.867]\n",
      "\n",
      "RESULTS FOR POLY DEGREE=2 KERNEL\n",
      "\n",
      "Best parameters set found:\n",
      "{'C': 10, 'gamma': 0.01}\n",
      "Score with best parameters:\n",
      "0.899\n",
      "\n",
      "All scores on the grid:\n",
      "[0.877 0.897 0.897 0.899 0.897 0.897 0.897 0.897 0.897]\n",
      "\n",
      "RESULTS FOR rbf KERNEL\n",
      "\n",
      "Best parameters set found:\n",
      "{'C': 10, 'gamma': 0.01}\n",
      "Score with best parameters:\n",
      "0.9059999999999999\n",
      "\n",
      "All scores on the grid:\n",
      "[0.896 0.615 0.117 0.906 0.65  0.12  0.906 0.65  0.12 ]\n",
      "Best SVM training error: 0.016000\n",
      "Best SVM test error: 0.087478\n"
     ]
    },
    {
     "name": "stderr",
     "output_type": "stream",
     "text": [
      "C:\\Users\\User\\anaconda3\\lib\\site-packages\\sklearn\\linear_model\\_logistic.py:814: ConvergenceWarning: lbfgs failed to converge (status=1):\n",
      "STOP: TOTAL NO. of ITERATIONS REACHED LIMIT.\n",
      "\n",
      "Increase the number of iterations (max_iter) or scale the data as shown in:\n",
      "    https://scikit-learn.org/stable/modules/preprocessing.html\n",
      "Please also refer to the documentation for alternative solver options:\n",
      "    https://scikit-learn.org/stable/modules/linear_model.html#logistic-regression\n",
      "  n_iter_i = _check_optimize_result(\n"
     ]
    },
    {
     "name": "stdout",
     "output_type": "stream",
     "text": [
      "Best logistic regression training error: 0.000000\n",
      "Best logistic regression test error: 0.131101\n"
     ]
    },
    {
     "name": "stderr",
     "output_type": "stream",
     "text": [
      "C:\\Users\\User\\anaconda3\\lib\\site-packages\\sklearn\\linear_model\\_logistic.py:814: ConvergenceWarning: lbfgs failed to converge (status=1):\n",
      "STOP: TOTAL NO. of ITERATIONS REACHED LIMIT.\n",
      "\n",
      "Increase the number of iterations (max_iter) or scale the data as shown in:\n",
      "    https://scikit-learn.org/stable/modules/preprocessing.html\n",
      "Please also refer to the documentation for alternative solver options:\n",
      "    https://scikit-learn.org/stable/modules/linear_model.html#logistic-regression\n",
      "  n_iter_i = _check_optimize_result(\n",
      "C:\\Users\\User\\anaconda3\\lib\\site-packages\\sklearn\\linear_model\\_logistic.py:814: ConvergenceWarning: lbfgs failed to converge (status=1):\n",
      "STOP: TOTAL NO. of ITERATIONS REACHED LIMIT.\n",
      "\n",
      "Increase the number of iterations (max_iter) or scale the data as shown in:\n",
      "    https://scikit-learn.org/stable/modules/preprocessing.html\n",
      "Please also refer to the documentation for alternative solver options:\n",
      "    https://scikit-learn.org/stable/modules/linear_model.html#logistic-regression\n",
      "  n_iter_i = _check_optimize_result(\n",
      "C:\\Users\\User\\anaconda3\\lib\\site-packages\\sklearn\\linear_model\\_logistic.py:814: ConvergenceWarning: lbfgs failed to converge (status=1):\n",
      "STOP: TOTAL NO. of ITERATIONS REACHED LIMIT.\n",
      "\n",
      "Increase the number of iterations (max_iter) or scale the data as shown in:\n",
      "    https://scikit-learn.org/stable/modules/preprocessing.html\n",
      "Please also refer to the documentation for alternative solver options:\n",
      "    https://scikit-learn.org/stable/modules/linear_model.html#logistic-regression\n",
      "  n_iter_i = _check_optimize_result(\n",
      "C:\\Users\\User\\anaconda3\\lib\\site-packages\\sklearn\\linear_model\\_logistic.py:814: ConvergenceWarning: lbfgs failed to converge (status=1):\n",
      "STOP: TOTAL NO. of ITERATIONS REACHED LIMIT.\n",
      "\n",
      "Increase the number of iterations (max_iter) or scale the data as shown in:\n",
      "    https://scikit-learn.org/stable/modules/preprocessing.html\n",
      "Please also refer to the documentation for alternative solver options:\n",
      "    https://scikit-learn.org/stable/modules/linear_model.html#logistic-regression\n",
      "  n_iter_i = _check_optimize_result(\n",
      "C:\\Users\\User\\anaconda3\\lib\\site-packages\\sklearn\\linear_model\\_logistic.py:814: ConvergenceWarning: lbfgs failed to converge (status=1):\n",
      "STOP: TOTAL NO. of ITERATIONS REACHED LIMIT.\n",
      "\n",
      "Increase the number of iterations (max_iter) or scale the data as shown in:\n",
      "    https://scikit-learn.org/stable/modules/preprocessing.html\n",
      "Please also refer to the documentation for alternative solver options:\n",
      "    https://scikit-learn.org/stable/modules/linear_model.html#logistic-regression\n",
      "  n_iter_i = _check_optimize_result(\n",
      "C:\\Users\\User\\anaconda3\\lib\\site-packages\\sklearn\\linear_model\\_logistic.py:814: ConvergenceWarning: lbfgs failed to converge (status=1):\n",
      "STOP: TOTAL NO. of ITERATIONS REACHED LIMIT.\n",
      "\n",
      "Increase the number of iterations (max_iter) or scale the data as shown in:\n",
      "    https://scikit-learn.org/stable/modules/preprocessing.html\n",
      "Please also refer to the documentation for alternative solver options:\n",
      "    https://scikit-learn.org/stable/modules/linear_model.html#logistic-regression\n",
      "  n_iter_i = _check_optimize_result(\n"
     ]
    },
    {
     "name": "stdout",
     "output_type": "stream",
     "text": [
      "Best logistic regression training error with CV: 0.006000\n",
      "Best logistic regression test error with CV: 0.129478\n"
     ]
    }
   ],
   "source": [
    "#random permute the data and split into training and test taking the first 500\n",
    "#data samples as training and the rests as test\n",
    "permutation = np.random.permutation(X.shape[0])\n",
    "\n",
    "X = X[permutation]\n",
    "y = y[permutation]\n",
    "\n",
    "m_training = 1000\n",
    "\n",
    "X_train, X_test = X[:m_training], X[m_training:]\n",
    "y_train, y_test = y[:m_training], y[m_training:]\n",
    "\n",
    "print(\"Labels and frequencies in training dataset: \")\n",
    "np.unique(y_train, return_counts = True)\n",
    "\n",
    "#import SVC\n",
    "from sklearn.svm import SVC\n",
    "#import for Cross-Validation\n",
    "from sklearn.model_selection import GridSearchCV\n",
    "\n",
    "# parameters for linear SVM\n",
    "parameters = {'C': [1, 10, 100]}\n",
    "\n",
    "#run linear SVM\n",
    "linear_SVM = SVC(kernel='linear')\n",
    "\n",
    "#find best model using 5-fold CV\n",
    "#and train it using all the training data\n",
    "\n",
    "#Using GridSearchCV:\n",
    "grid_linear_1000 = GridSearchCV(estimator=linear_SVM, param_grid=parameters, cv=5)\n",
    "grid_linear_1000.fit(X_train, y_train)\n",
    "\n",
    "print ('RESULTS FOR LINEAR KERNEL\\n')\n",
    "\n",
    "print(\"Best parameters set found:\")\n",
    "print(grid_linear_1000.best_params_)\n",
    "\n",
    "print(\"Score with best parameters:\")\n",
    "print(grid_linear_1000.best_score_)\n",
    "\n",
    "print(\"\\nAll scores on the grid:\")\n",
    "print(grid_linear_1000.cv_results_['mean_test_score'])\n",
    "\n",
    "# parameters for poly with degree 2 kernel\n",
    "parameters = {'C': [1, 10, 100],'gamma':[0.01,0.1,1.]}\n",
    "\n",
    "#run SVM with poly of degree 2 kernel\n",
    "poly2_SVM = SVC(kernel='poly',degree=2)\n",
    "\n",
    "# ADD CODE: DO THE SAME AS ABOVE FOR POLYNOMIAL KERNEL WITH DEGREE=2\n",
    "#find best model using 5-fold CV\n",
    "#and train it using all the training data\n",
    "\n",
    "#Using now GridSearchCV to see a different approach\n",
    "grid_poly2_1000 = GridSearchCV(estimator=poly2_SVM, param_grid=parameters, cv=5)\n",
    "grid_poly2_1000.fit(X_train, y_train)\n",
    "\n",
    "print ('\\nRESULTS FOR POLY DEGREE=2 KERNEL\\n')\n",
    "\n",
    "print(\"Best parameters set found:\")\n",
    "print(grid_poly2_1000.best_params_)\n",
    "\n",
    "print(\"Score with best parameters:\")\n",
    "print(grid_poly2_1000.best_score_)\n",
    "\n",
    "print(\"\\nAll scores on the grid:\")\n",
    "print(grid_poly2_1000.cv_results_['mean_test_score'])\n",
    "\n",
    "# parameters for rbf SVM\n",
    "parameters = {'C': [1, 10, 100],'gamma':[0.01,0.1,1.]}\n",
    "\n",
    "#run SVM with rbf kernel\n",
    "rbf_SVM = SVC(kernel='rbf')\n",
    "# ADD CODE: DO THE SAME AS ABOVE FOR RBF KERNEL\n",
    "#find best model using 5-fold CV\n",
    "#and train it using all the training data\n",
    "\n",
    "grid_rbf_1000 = GridSearchCV(estimator=rbf_SVM, param_grid=parameters, cv=5)\n",
    "grid_rbf_1000.fit(X_train, y_train)\n",
    "\n",
    "print ('\\nRESULTS FOR rbf KERNEL\\n')\n",
    "\n",
    "print(\"Best parameters set found:\")\n",
    "print(grid_rbf_1000.best_params_)\n",
    "\n",
    "print(\"Score with best parameters:\")\n",
    "print(grid_rbf_1000.best_score_)\n",
    "\n",
    "print(\"\\nAll scores on the grid:\")\n",
    "print(grid_rbf_1000.cv_results_['mean_test_score'])\n",
    "\n",
    "#get training and test error for the best SVM model from CV\n",
    "best_SVM_1000 = rbf_SVM\n",
    "\n",
    "# fit the model on the entire training set\n",
    "# ADD CODE\n",
    "best_SVM_1000.fit(X_train, y_train)\n",
    "\n",
    "#get the training and test error\n",
    "training_error_best_1000 = 1. - best_SVM_1000.score(X_train,y_train)\n",
    "test_error_best_1000 = 1. - best_SVM_1000.score(X_test,y_test)\n",
    "\n",
    "print (\"Best SVM training error: %f\" % training_error_best_1000)\n",
    "print (\"Best SVM test error: %f\" % test_error_best_1000)\n",
    "\n",
    "from sklearn import linear_model\n",
    "\n",
    "lr = linear_model.LogisticRegression()\n",
    "# fit the model on the training data\n",
    "lr.fit(X_train, y_train)\n",
    "\n",
    "#compute training and test error for model above\n",
    "training_error_lr_1000 = 1 - lr.score(X_train, y_train)\n",
    "test_error_lr_1000 = 1 - lr.score(X_test, y_test)\n",
    "\n",
    "print (\"Best logistic regression training error: %f\" % training_error_lr_1000)\n",
    "print (\"Best logistic regression test error: %f\" % test_error_lr_1000)\n",
    "\n",
    "#logistic regression with 5-fold CV: you can use use linear_model.LogisticRegressionCV\n",
    "# use 5-fold CV to find the best choice of the parameter, than train\n",
    "# the model on the entire training set\n",
    "lr_cv = linear_model.LogisticRegressionCV(cv=5)\n",
    "lr_cv.fit(X_train, y_train)\n",
    "training_error_cv_1000 = 1 - lr_cv.score(X_train, y_train)\n",
    "test_error_cv_1000 = 1 - lr_cv.score(X_test, y_test)\n",
    "\n",
    "print (\"Best logistic regression training error with CV: %f\" % training_error_cv_1000)\n",
    "print (\"Best logistic regression test error with CV: %f\" % test_error_cv_1000)"
   ]
  },
  {
   "cell_type": "markdown",
   "metadata": {},
   "source": [
    "## TO DO 7\n",
    "\n",
    "Let us print the data from both experiments to do a comparison:"
   ]
  },
  {
   "cell_type": "code",
   "execution_count": 37,
   "metadata": {},
   "outputs": [
    {
     "name": "stdout",
     "output_type": "stream",
     "text": [
      "╒══════════════════╤════════════════════════════════╤═════════════════════════════════╕\n",
      "│ SVM              │   500 samples validation score │   1000 samples validation score │\n",
      "╞══════════════════╪════════════════════════════════╪═════════════════════════════════╡\n",
      "│ Linear SVM       │                          0.864 │                           0.867 │\n",
      "├──────────────────┼────────────────────────────────┼─────────────────────────────────┤\n",
      "│ Polynomial-2 SVM │                          0.858 │                           0.899 │\n",
      "├──────────────────┼────────────────────────────────┼─────────────────────────────────┤\n",
      "│ Rbf SVM          │                          0.88  │                           0.906 │\n",
      "╘══════════════════╧════════════════════════════════╧═════════════════════════════════╛\n",
      "\n",
      "\n",
      "╒════════════════════════╤═══════════════╤════════════════╤══════════════════╤══════════════════╕\n",
      "│ Model                  │   500 samples │   1000 samples │      500 samples │     1000 samples │\n",
      "│                        │    \u001B[1mtest\u001B[0m error │     \u001B[1mtest\u001B[0m error │   \u001B[1mtraining\u001B[0m error │   \u001B[1mtraining\u001B[0m error │\n",
      "╞════════════════════════╪═══════════════╪════════════════╪══════════════════╪══════════════════╡\n",
      "│ Best (rbf) SVM         │      0.117381 │      0.0874783 │            0.014 │            0.016 │\n",
      "├────────────────────────┼───────────────┼────────────────┼──────────────────┼──────────────────┤\n",
      "│ Logistic Regression    │      0.157871 │      0.131101  │            0     │            0     │\n",
      "├────────────────────────┼───────────────┼────────────────┼──────────────────┼──────────────────┤\n",
      "│ Logistic Regression CV │      0.159309 │      0.129478  │            0     │            0.006 │\n",
      "╘════════════════════════╧═══════════════╧════════════════╧══════════════════╧══════════════════╛\n"
     ]
    }
   ],
   "source": [
    "from tabulate import tabulate\n",
    "data=[[\"Linear SVM\", scores[best_parameter_index], grid_linear_1000.best_score_],\n",
    "      [\"Polynomial-2 SVM\", grid_poly2.best_score_, grid_poly2_1000.best_score_],\n",
    "      [\"Rbf SVM\", grid_rbf.best_score_, grid_rbf_1000.best_score_]]\n",
    "col_names = [\"SVM\",\"500 samples validation score\",\"1000 samples validation score\"]\n",
    "\n",
    "print(tabulate(data, headers=col_names, tablefmt=\"fancy_grid\"))\n",
    "print(\"\\n\")\n",
    "\n",
    "data = [[\"Best (rbf) SVM\", test_error_best, test_error_best_1000, training_error_best, training_error_best_1000],\n",
    "      [\"Logistic Regression\", test_error_lr, test_error_lr_1000, training_error_lr, training_error_lr_1000],\n",
    "      [\"Logistic Regression CV\", test_error_cv, test_error_cv_1000, training_error_cv, training_error_cv_1000]]\n",
    "\n",
    "col_names = [\"Model\", \"500 samples\\n\\033[1mtest\\033[0m error\", \"1000 samples\\n\\033[1mtest\\033[0m error\", \"500 samples\\n\\033[1mtraining\\033[0m error\", \"1000 samples\\n\\033[1mtraining\\033[0m error\"]\n",
    "print(tabulate(data, headers=col_names, tablefmt=\"fancy_grid\"))"
   ]
  },
  {
   "cell_type": "markdown",
   "metadata": {},
   "source": [
    "We can see from the results reported above that by increasing the size of the training set we have an improvement of the estimate of the generalization error on all the models considered.\n",
    "\n",
    "### Observations on SVMs\n",
    "For what concerns SVMs, Rbf remains the best model overall, but the polynomial of degree 2 SVM now outperforms the linear SVM by increasing the data.\n",
    "This is due to the fact that data don't follow a linear trend and are instead better classified by some curve. Since we have 1000 samples, we have a better representation of our data distribution and the polynomial SVM can better understand how to separate the data.\n",
    "\n",
    "### Observations on LR\n",
    "As we were expecting, the training error, once we pick a training set which has more instances than the number of features, became worse than the one with had before (i.e. 0).\n",
    "Let us look at the non-zero coefficients in our model:"
   ]
  },
  {
   "cell_type": "code",
   "execution_count": 38,
   "outputs": [
    {
     "name": "stdout",
     "output_type": "stream",
     "text": [
      "hyperplane 0 : 618 nonzero parameters\n",
      "hyperplane 1 : 618 nonzero parameters\n",
      "hyperplane 2 : 618 nonzero parameters\n",
      "hyperplane 3 : 618 nonzero parameters\n",
      "hyperplane 4 : 618 nonzero parameters\n",
      "hyperplane 5 : 618 nonzero parameters\n",
      "hyperplane 6 : 618 nonzero parameters\n",
      "hyperplane 7 : 618 nonzero parameters\n",
      "hyperplane 8 : 618 nonzero parameters\n",
      "hyperplane 9 : 618 nonzero parameters\n"
     ]
    }
   ],
   "source": [
    "for x in range(len(lr_cv.coef_)) : print(\"hyperplane\", x, \":\", np.count_nonzero(lr_cv.coef_[x]), \"nonzero parameters\")"
   ],
   "metadata": {
    "collapsed": false
   }
  },
  {
   "cell_type": "markdown",
   "source": [
    "In this case, having more instances than features, I dare to say that it *may* not be possible (this depends on the data we pick in our training set) to find a hyperplane that perfectly classifies the data.\n",
    "Anyway, the model still performs a selection of the features: I guess that some pixels (e.g. the one on the borders) are not relevant for the classification and are, therefore, ignored to avoid an overly complex model."
   ],
   "metadata": {
    "collapsed": false
   }
  },
  {
   "cell_type": "markdown",
   "source": [
    "### Considerations SVMs against LR\n",
    "We can observe a slight improvement of the performance of the generalization error for all the models considered.\n",
    "However, the SVM trained with rbf as kernel still outperforms the Logistic Regression model.\n",
    "The reason for this was already explained in the paragraph above.\n",
    "The model are working fairly good: we have both good training and generalization error."
   ],
   "metadata": {
    "collapsed": false
   }
  },
  {
   "cell_type": "markdown",
   "source": [
    "### Considerations on errors between LR and SVM:\n",
    "Since SVM performs better than LR, let us look at where the majority of the misclassifications done by LR come from.\n",
    "We are going to plot a confusion matrix that will tell us which are the most critical boundaries between classes, i.e. which are the patterns correctly classified by SVM that instead are wrongly recognized by LR."
   ],
   "metadata": {
    "collapsed": false
   }
  },
  {
   "cell_type": "code",
   "execution_count": 39,
   "metadata": {},
   "outputs": [
    {
     "data": {
      "text/plain": "<Figure size 720x720 with 2 Axes>",
      "image/png": "[encoded data removed]"
     },
     "metadata": {
      "needs_background": "light"
     },
     "output_type": "display_data"
    }
   ],
   "source": [
    "pred_lr = lr_cv.predict(X_test)\n",
    "wrong_pred_lr = pred_lr != y_test\n",
    "\n",
    "pred_best_SVM = best_SVM.predict(X_test)\n",
    "right_pred_SVM = pred_best_SVM == y_test\n",
    "\n",
    "right_SVM_wrong_lr = right_pred_SVM == wrong_pred_lr\n",
    "right_SVM_wrong_lr_indices = [i for i, x in enumerate(right_SVM_wrong_lr) if x]\n",
    "\n",
    "# Define the confusion matrix, normalized, with the SVM correct predictions as \"true\" labels and the ones done by LR as, simply, predictions.\n",
    "cm = sklearn.metrics.confusion_matrix(pred_best_SVM[right_SVM_wrong_lr_indices], pred_lr[right_SVM_wrong_lr_indices], normalize='true')\n",
    "\n",
    "disp = sklearn.metrics.ConfusionMatrixDisplay(cm)\n",
    "\n",
    "fig, ax = plt.subplots(figsize=(10, 10))\n",
    "disp.plot(ax = ax, cmap='Blues')\n",
    "\n",
    "disp.ax_.set(xlabel='Wrong LR Prediction',\n",
    "             ylabel='Correct SVM Prediction')\n",
    "plt.show()"
   ]
  },
  {
   "cell_type": "markdown",
   "metadata": {},
   "source": [
    "### Comments on the result of the confusion matrix\n",
    "\n",
    "As we can see from the reported confusion matrix (actually these results may change based on how we pick the training set, but overall these are the most occurring possibilities):\n",
    "- 9 is wrongly classified as 4 by LR in many cases\n",
    "- 4, 7 get instead confused by a 9 oftentimes by LR\n",
    "- 0, 3 get wrongly identified as a 5 by LR.\n",
    "\n",
    "As we can see, many problems arise with 4 and 9: this means that the instances belonging to class 4 and 9 are relatively close to each other.\n",
    "First of all, LR uses a hyperplane as separation surface and it assumes that the data are linearly separable. The fact that the data are separated by a hyperplane is a strong assumption, which may not apply to our dataset.\n",
    "On the other hand, SVM with RBF kernel projects the data into a space where the dot product is a better representation of the similarity between the figures 4 and 9: this allows us to separate the data through a more complex surface, which results in higher performance.\n",
    "Moreover, SVM tries not only to separate the data through some surface, but also to optimize the margin (which is not done by LR, which only looks for any separating hyperplane). This may result also in some ignored instances that lead to a larger margin."
   ]
  },
  {
   "cell_type": "code",
   "execution_count": 39,
   "outputs": [],
   "source": [],
   "metadata": {
    "collapsed": false
   }
  }
 ],
 "metadata": {
  "kernelspec": {
   "display_name": "Python 3 (ipykernel)",
   "language": "python",
   "name": "python3"
  },
  "language_info": {
   "codemirror_mode": {
    "name": "ipython",
    "version": 3
   },
   "file_extension": ".py",
   "mimetype": "text/x-python",
   "name": "python",
   "nbconvert_exporter": "python",
   "pygments_lexer": "ipython3",
   "version": "3.9.12"
  }
 },
 "nbformat": 4,
 "nbformat_minor": 4
}
